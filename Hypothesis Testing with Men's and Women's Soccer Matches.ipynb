{
 "cells": [
  {
   "cell_type": "markdown",
   "id": "038845be-115d-4072-a1bf-010ac7070cda",
   "metadata": {},
   "source": [
    "#import library"
   ]
  },
  {
   "cell_type": "code",
   "execution_count": 65,
   "id": "26934e97-a17c-4734-97da-5d60c44a12f0",
   "metadata": {},
   "outputs": [],
   "source": [
    "import pandas as pd\n",
    "from scipy.stats import ttest_ind"
   ]
  },
  {
   "cell_type": "raw",
   "id": "bb24b9a4-90ce-4cb6-b775-673a86c9eb96",
   "metadata": {
    "jp-MarkdownHeadingCollapsed": true
   },
   "source": [
    "#Load the data"
   ]
  },
  {
   "cell_type": "code",
   "execution_count": 77,
   "id": "d98e03fd-cf2c-4bd9-9717-a3bd7c29da3f",
   "metadata": {},
   "outputs": [],
   "source": [
    "women_results = pd.read_csv('women_results.csv')\n",
    "men_results = pd.read_csv('men_results.csv')"
   ]
  },
  {
   "cell_type": "markdown",
   "id": "1f6552ca-64f6-4774-8a79-dcf57820ac05",
   "metadata": {},
   "source": [
    "#Filter data to include only FIFA World Cup matches after 2002-01-01"
   ]
  },
  {
   "cell_type": "code",
   "execution_count": 80,
   "id": "b0eb227b-d50a-490a-8f3e-0cd46af08bbb",
   "metadata": {},
   "outputs": [],
   "source": [
    "men_fifa = men_results[(men_results['date'] >= '2002-01-01') & (men_results['tournament'] == 'FIFA World Cup')]\n",
    "women_fifa = women_results[(women_results['date'] >= '2002-01-01') & (women_results['tournament'] == 'FIFA World Cup')]"
   ]
  },
  {
   "cell_type": "code",
   "execution_count": 72,
   "id": "fddeac3b-2d86-45f3-8d87-18c2d5f58e69",
   "metadata": {
    "scrolled": true
   },
   "outputs": [
    {
     "data": {
      "text/html": [
       "<div>\n",
       "<style scoped>\n",
       "    .dataframe tbody tr th:only-of-type {\n",
       "        vertical-align: middle;\n",
       "    }\n",
       "\n",
       "    .dataframe tbody tr th {\n",
       "        vertical-align: top;\n",
       "    }\n",
       "\n",
       "    .dataframe thead th {\n",
       "        text-align: right;\n",
       "    }\n",
       "</style>\n",
       "<table border=\"1\" class=\"dataframe\">\n",
       "  <thead>\n",
       "    <tr style=\"text-align: right;\">\n",
       "      <th></th>\n",
       "      <th>Unnamed: 0</th>\n",
       "      <th>date</th>\n",
       "      <th>home_team</th>\n",
       "      <th>away_team</th>\n",
       "      <th>home_score</th>\n",
       "      <th>away_score</th>\n",
       "      <th>tournament</th>\n",
       "    </tr>\n",
       "  </thead>\n",
       "  <tbody>\n",
       "    <tr>\n",
       "      <th>25164</th>\n",
       "      <td>25164</td>\n",
       "      <td>2002-05-31</td>\n",
       "      <td>France</td>\n",
       "      <td>Senegal</td>\n",
       "      <td>0</td>\n",
       "      <td>1</td>\n",
       "      <td>FIFA World Cup</td>\n",
       "    </tr>\n",
       "    <tr>\n",
       "      <th>25165</th>\n",
       "      <td>25165</td>\n",
       "      <td>2002-06-01</td>\n",
       "      <td>Germany</td>\n",
       "      <td>Saudi Arabia</td>\n",
       "      <td>8</td>\n",
       "      <td>0</td>\n",
       "      <td>FIFA World Cup</td>\n",
       "    </tr>\n",
       "    <tr>\n",
       "      <th>25166</th>\n",
       "      <td>25166</td>\n",
       "      <td>2002-06-01</td>\n",
       "      <td>Republic of Ireland</td>\n",
       "      <td>Cameroon</td>\n",
       "      <td>1</td>\n",
       "      <td>1</td>\n",
       "      <td>FIFA World Cup</td>\n",
       "    </tr>\n",
       "    <tr>\n",
       "      <th>25167</th>\n",
       "      <td>25167</td>\n",
       "      <td>2002-06-01</td>\n",
       "      <td>Uruguay</td>\n",
       "      <td>Denmark</td>\n",
       "      <td>1</td>\n",
       "      <td>2</td>\n",
       "      <td>FIFA World Cup</td>\n",
       "    </tr>\n",
       "    <tr>\n",
       "      <th>25168</th>\n",
       "      <td>25168</td>\n",
       "      <td>2002-06-02</td>\n",
       "      <td>Argentina</td>\n",
       "      <td>Nigeria</td>\n",
       "      <td>1</td>\n",
       "      <td>0</td>\n",
       "      <td>FIFA World Cup</td>\n",
       "    </tr>\n",
       "  </tbody>\n",
       "</table>\n",
       "</div>"
      ],
      "text/plain": [
       "       Unnamed: 0        date            home_team     away_team  home_score  \\\n",
       "25164       25164  2002-05-31               France       Senegal           0   \n",
       "25165       25165  2002-06-01              Germany  Saudi Arabia           8   \n",
       "25166       25166  2002-06-01  Republic of Ireland      Cameroon           1   \n",
       "25167       25167  2002-06-01              Uruguay       Denmark           1   \n",
       "25168       25168  2002-06-02            Argentina       Nigeria           1   \n",
       "\n",
       "       away_score      tournament  \n",
       "25164           1  FIFA World Cup  \n",
       "25165           0  FIFA World Cup  \n",
       "25166           1  FIFA World Cup  \n",
       "25167           2  FIFA World Cup  \n",
       "25168           0  FIFA World Cup  "
      ]
     },
     "execution_count": 72,
     "metadata": {},
     "output_type": "execute_result"
    }
   ],
   "source": [
    "men_fifa.head()"
   ]
  },
  {
   "cell_type": "code",
   "execution_count": 74,
   "id": "4e9d3d1b-0924-44bf-b6be-7c9e13fc19da",
   "metadata": {},
   "outputs": [
    {
     "data": {
      "text/html": [
       "<div>\n",
       "<style scoped>\n",
       "    .dataframe tbody tr th:only-of-type {\n",
       "        vertical-align: middle;\n",
       "    }\n",
       "\n",
       "    .dataframe tbody tr th {\n",
       "        vertical-align: top;\n",
       "    }\n",
       "\n",
       "    .dataframe thead th {\n",
       "        text-align: right;\n",
       "    }\n",
       "</style>\n",
       "<table border=\"1\" class=\"dataframe\">\n",
       "  <thead>\n",
       "    <tr style=\"text-align: right;\">\n",
       "      <th></th>\n",
       "      <th>Unnamed: 0</th>\n",
       "      <th>date</th>\n",
       "      <th>home_team</th>\n",
       "      <th>away_team</th>\n",
       "      <th>home_score</th>\n",
       "      <th>away_score</th>\n",
       "      <th>tournament</th>\n",
       "    </tr>\n",
       "  </thead>\n",
       "  <tbody>\n",
       "    <tr>\n",
       "      <th>1600</th>\n",
       "      <td>1600</td>\n",
       "      <td>2003-09-20</td>\n",
       "      <td>Nigeria</td>\n",
       "      <td>North Korea</td>\n",
       "      <td>0</td>\n",
       "      <td>3</td>\n",
       "      <td>FIFA World Cup</td>\n",
       "    </tr>\n",
       "    <tr>\n",
       "      <th>1601</th>\n",
       "      <td>1601</td>\n",
       "      <td>2003-09-20</td>\n",
       "      <td>Norway</td>\n",
       "      <td>France</td>\n",
       "      <td>2</td>\n",
       "      <td>0</td>\n",
       "      <td>FIFA World Cup</td>\n",
       "    </tr>\n",
       "    <tr>\n",
       "      <th>1602</th>\n",
       "      <td>1602</td>\n",
       "      <td>2003-09-20</td>\n",
       "      <td>Germany</td>\n",
       "      <td>Canada</td>\n",
       "      <td>4</td>\n",
       "      <td>1</td>\n",
       "      <td>FIFA World Cup</td>\n",
       "    </tr>\n",
       "    <tr>\n",
       "      <th>1603</th>\n",
       "      <td>1603</td>\n",
       "      <td>2003-09-20</td>\n",
       "      <td>Japan</td>\n",
       "      <td>Argentina</td>\n",
       "      <td>6</td>\n",
       "      <td>0</td>\n",
       "      <td>FIFA World Cup</td>\n",
       "    </tr>\n",
       "    <tr>\n",
       "      <th>1604</th>\n",
       "      <td>1604</td>\n",
       "      <td>2003-09-21</td>\n",
       "      <td>United States</td>\n",
       "      <td>Sweden</td>\n",
       "      <td>3</td>\n",
       "      <td>1</td>\n",
       "      <td>FIFA World Cup</td>\n",
       "    </tr>\n",
       "  </tbody>\n",
       "</table>\n",
       "</div>"
      ],
      "text/plain": [
       "      Unnamed: 0        date      home_team    away_team  home_score  \\\n",
       "1600        1600  2003-09-20        Nigeria  North Korea           0   \n",
       "1601        1601  2003-09-20         Norway       France           2   \n",
       "1602        1602  2003-09-20        Germany       Canada           4   \n",
       "1603        1603  2003-09-20          Japan    Argentina           6   \n",
       "1604        1604  2003-09-21  United States       Sweden           3   \n",
       "\n",
       "      away_score      tournament  \n",
       "1600           3  FIFA World Cup  \n",
       "1601           0  FIFA World Cup  \n",
       "1602           1  FIFA World Cup  \n",
       "1603           0  FIFA World Cup  \n",
       "1604           1  FIFA World Cup  "
      ]
     },
     "execution_count": 74,
     "metadata": {},
     "output_type": "execute_result"
    }
   ],
   "source": [
    "women_fifa.head()"
   ]
  },
  {
   "cell_type": "markdown",
   "id": "15f4e402-f93d-417b-afd9-8be2f448c7b4",
   "metadata": {},
   "source": [
    "#Calculate the total goals scored in each match"
   ]
  },
  {
   "cell_type": "code",
   "execution_count": 82,
   "id": "ac47a6cd-1750-4477-a96e-66a1ed157a71",
   "metadata": {},
   "outputs": [],
   "source": [
    "men_goals = men_fifa['home_score'] + men_fifa['away_score']\n",
    "women_goals = women_fifa['home_score'] + women_fifa['away_score']"
   ]
  },
  {
   "cell_type": "code",
   "execution_count": 85,
   "id": "4cae0724-929b-47b2-8291-07c742a05737",
   "metadata": {},
   "outputs": [
    {
     "data": {
      "text/plain": [
       "25164    1\n",
       "25165    8\n",
       "25166    2\n",
       "25167    3\n",
       "25168    1\n",
       "dtype: int64"
      ]
     },
     "execution_count": 85,
     "metadata": {},
     "output_type": "execute_result"
    }
   ],
   "source": [
    "men_goals.head()"
   ]
  },
  {
   "cell_type": "code",
   "execution_count": 87,
   "id": "e0691296-a201-4488-9bea-81837ea6d2e9",
   "metadata": {},
   "outputs": [
    {
     "data": {
      "text/plain": [
       "1600    3\n",
       "1601    2\n",
       "1602    5\n",
       "1603    6\n",
       "1604    4\n",
       "dtype: int64"
      ]
     },
     "execution_count": 87,
     "metadata": {},
     "output_type": "execute_result"
    }
   ],
   "source": [
    "women_goals.head()"
   ]
  },
  {
   "cell_type": "markdown",
   "id": "65a15cff-cdf1-4707-9f67-a60a60581899",
   "metadata": {},
   "source": [
    "#Perform the two-sample t-test"
   ]
  },
  {
   "cell_type": "code",
   "execution_count": 49,
   "id": "ef4a20a8-626d-41cd-a5f8-d38049c4c6a8",
   "metadata": {},
   "outputs": [],
   "source": [
    "t_stat, p_val = ttest_ind(men_goals, women_goals, equal_var=False)"
   ]
  },
  {
   "cell_type": "markdown",
   "id": "2a3fa456-05a2-4459-8e5a-06e7c8463949",
   "metadata": {},
   "source": [
    "#Output the p-value"
   ]
  },
  {
   "cell_type": "code",
   "execution_count": 52,
   "id": "b3eb5907-97d1-4848-9460-03b7399cd39f",
   "metadata": {},
   "outputs": [
    {
     "name": "stdout",
     "output_type": "stream",
     "text": [
      "t-statistic: -2.812822759620731, p-value: 0.0051961448009743005\n"
     ]
    }
   ],
   "source": [
    "print(f\"t-statistic: {t_stat}, p-value: {p_val}\")"
   ]
  },
  {
   "cell_type": "markdown",
   "id": "d06a3570-f607-47cf-87c1-c3bcb3428515",
   "metadata": {},
   "source": [
    "#Determine the result of the hypothesis test"
   ]
  },
  {
   "cell_type": "code",
   "execution_count": 89,
   "id": "9d231c57-6ffc-4df7-a883-310156a6c320",
   "metadata": {},
   "outputs": [],
   "source": [
    "alpha = 0.10\n",
    "result = \"reject\" if p_val < alpha else \"fail to reject\""
   ]
  },
  {
   "cell_type": "markdown",
   "id": "665821cb-d043-429c-a826-01dd584a4e90",
   "metadata": {},
   "source": [
    "#Store the result in the dictionary"
   ]
  },
  {
   "cell_type": "code",
   "execution_count": 92,
   "id": "1eede5cf-b840-4945-9919-e9b3e8144d35",
   "metadata": {},
   "outputs": [],
   "source": [
    "result_dict = {\"p_val\": p_val, \"result\": result}"
   ]
  },
  {
   "cell_type": "markdown",
   "id": "85a2f8c8-1a75-4a1c-a196-6c10b65de342",
   "metadata": {},
   "source": [
    "#Output the result"
   ]
  },
  {
   "cell_type": "code",
   "execution_count": 94,
   "id": "fb5a9189-b6c9-4d56-b670-99fbe86deee5",
   "metadata": {},
   "outputs": [
    {
     "name": "stdout",
     "output_type": "stream",
     "text": [
      "{'p_val': 0.0051961448009743005, 'result': 'reject'}\n"
     ]
    }
   ],
   "source": [
    "print(result_dict)"
   ]
  },
  {
   "cell_type": "code",
   "execution_count": null,
   "id": "550d0f5f-ece0-4b85-83a2-890b51f24d32",
   "metadata": {},
   "outputs": [],
   "source": []
  },
  {
   "cell_type": "code",
   "execution_count": null,
   "id": "a0d288e1-209f-47dc-807a-f6b7276bcb45",
   "metadata": {},
   "outputs": [],
   "source": []
  },
  {
   "cell_type": "code",
   "execution_count": null,
   "id": "4d51a8c4-11bd-4a8e-abfa-b1a0e80a2e68",
   "metadata": {},
   "outputs": [],
   "source": []
  }
 ],
 "metadata": {
  "kernelspec": {
   "display_name": "Python [conda env:base] *",
   "language": "python",
   "name": "conda-base-py"
  },
  "language_info": {
   "codemirror_mode": {
    "name": "ipython",
    "version": 3
   },
   "file_extension": ".py",
   "mimetype": "text/x-python",
   "name": "python",
   "nbconvert_exporter": "python",
   "pygments_lexer": "ipython3",
   "version": "3.12.7"
  }
 },
 "nbformat": 4,
 "nbformat_minor": 5
}
